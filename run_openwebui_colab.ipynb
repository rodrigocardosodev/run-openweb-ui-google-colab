{
  "nbformat": 4,
  "nbformat_minor": 0,
  "metadata": {
    "colab": {
      "provenance": [],
      "gpuType": "A100",
      "machine_shape": "hm",
      "include_colab_link": true
    },
    "kernelspec": {
      "name": "python3",
      "display_name": "Python 3"
    },
    "language_info": {
      "name": "python"
    },
    "accelerator": "GPU"
  },
  "cells": [
    {
      "cell_type": "markdown",
      "metadata": {
        "id": "view-in-github",
        "colab_type": "text"
      },
      "source": [
        "<a href=\"https://colab.research.google.com/github/rodrigocardosodev/run-openweb-ui-google-colab/blob/master/run_openwebui_colab.ipynb\" target=\"_parent\"><img src=\"https://colab.research.google.com/assets/colab-badge.svg\" alt=\"Open In Colab\"/></a>"
      ]
    },
    {
      "cell_type": "markdown",
      "source": [
        "# Tutorial: Execução do OpenWebUI no Google Colab\n",
        "\n",
        "Este notebook foi preparado para demonstrar, passo a passo, como configurar e executar o OpenWebUI no ambiente do Google Colab. Em cada etapa, você encontrará uma célula de texto que explica detalhadamente o que está sendo feito e por que cada comando é importante para a execução da aplicação.\n",
        "      "
      ],
      "metadata": {
        "id": "nBmsAEok0D3O"
      }
    },
    {
      "cell_type": "markdown",
      "source": [
        "# Configuração de Variáveis de Ambiente\n",
        "\n",
        "Antes de iniciar, defina as seguintes variáveis de ambiente:\n",
        "- **HF_TOKEN:** Token para autenticação no Hugging Face.\n",
        "- **NGROK_TOKEN:** Token para configuração do ngrok.\n",
        "\n",
        "Você pode definir essas variáveis utilizando a célula de código abaixo (ou diretamente no ambiente do Colab):\n",
        "\n",
        "```python\n",
        "# Exemplo:\n",
        "# %env HF_TOKEN=seu_token_aqui\n",
        "# %env NGROK_TOKEN=seu_token_aqui\n"
      ],
      "metadata": {
        "id": "cUNHu3HL2g48"
      }
    },
    {
      "cell_type": "code",
      "source": [
        "%%env HF_TOKEN=\n",
        "%%env NGROK_TOKEN="
      ],
      "metadata": {
        "id": "qqDKPZgdxhnd"
      },
      "execution_count": null,
      "outputs": []
    },
    {
      "cell_type": "markdown",
      "source": [
        "\n",
        "---\n",
        "\n",
        "### 3. Atualização do Sistema e Instalação de Dependências\n",
        "\n",
        "```markdown\n",
        "# Atualização do Sistema e Instalação de Dependências\n",
        "\n",
        "Nesta etapa, o sistema é atualizado e são instaladas as dependências necessárias:\n",
        "\n",
        "- **Atualização do sistema:** Atualiza os pacotes do sistema.\n",
        "- **tmux:** Ferramenta para gerenciar sessões de terminal em background.\n",
        "- **pip:** Atualiza o gerenciador de pacotes do Python.\n",
        "- **huggingface_hub e open-webui:** Bibliotecas essenciais para executar o OpenWebUI.\n",
        "- **ngrok:** Configura um túnel público para expor o serviço.\n",
        "- **Ollama:** Instala o backend de IA (caso necessário).\n",
        "\n",
        "Os comandos utilizados estão comentados para garantir a compatibilidade com o Python no Colab.\n"
      ],
      "metadata": {
        "id": "9U1JUk9k21fe"
      }
    },
    {
      "cell_type": "code",
      "source": [
        "%%capture\n",
        "!apt update && apt upgrade"
      ],
      "metadata": {
        "collapsed": true,
        "id": "m06J_rgikZJe"
      },
      "execution_count": null,
      "outputs": []
    },
    {
      "cell_type": "code",
      "source": [
        "%%capture\n",
        "!apt install tmux -qq"
      ],
      "metadata": {
        "id": "H9i2j1g187mS"
      },
      "execution_count": null,
      "outputs": []
    },
    {
      "cell_type": "code",
      "source": [
        "%%capture\n",
        "!pip install -U pip -q"
      ],
      "metadata": {
        "id": "45um8XeOXPoo"
      },
      "execution_count": null,
      "outputs": []
    },
    {
      "cell_type": "code",
      "source": [
        "%%capture\n",
        "!pip install -U huggingface_hub open-webui -q"
      ],
      "metadata": {
        "id": "Gw1Z9qTJezjK"
      },
      "execution_count": null,
      "outputs": []
    },
    {
      "cell_type": "code",
      "source": [
        "%%capture\n",
        "!curl -sSL https://ngrok-agent.s3.amazonaws.com/ngrok.asc \\\n",
        "  | sudo tee /etc/apt/trusted.gpg.d/ngrok.asc >/dev/null \\\n",
        "  && echo \"deb https://ngrok-agent.s3.amazonaws.com buster main\" \\\n",
        "  | sudo tee /etc/apt/sources.list.d/ngrok.list \\\n",
        "  && sudo apt update \\\n",
        "  && sudo apt install ngrok"
      ],
      "metadata": {
        "id": "Fe156kdFXRZo",
        "collapsed": true
      },
      "execution_count": null,
      "outputs": []
    },
    {
      "cell_type": "code",
      "source": [
        "%%capture\n",
        "!curl -fsSL https://ollama.com/install.sh | sh"
      ],
      "metadata": {
        "id": "xsscTpKy8HY7"
      },
      "execution_count": null,
      "outputs": []
    },
    {
      "cell_type": "code",
      "source": [
        "HF_TOKEN = os.enviroment[\"HF_TOKEN\"] if \"HF_TOKEN\" in os.enviroment else \"\"\n",
        "NGROK_TOKEN = os.enviroment[\"NGROK_TOKEN\"] if \"NGROK_TOKEN\" in os.enviroment else \"\""
      ],
      "metadata": {
        "id": "ZSfH6qMvwiK1"
      },
      "execution_count": null,
      "outputs": []
    },
    {
      "cell_type": "markdown",
      "source": [
        "# Login no Hugging Face\n",
        "\n",
        "Realizamos o login no Hugging Face utilizando o token definido na variável **HF_TOKEN**. Esse passo é essencial para acessar os recursos e modelos disponíveis na plataforma.\n",
        "\n",
        "Caso o token não esteja definido corretamente, será exibida a mensagem: \"Token não encontrado\".\n"
      ],
      "metadata": {
        "id": "azBxNqcg2_nK"
      }
    },
    {
      "cell_type": "code",
      "source": [
        "from huggingface_hub import notebook_login\n",
        "\n",
        "import os\n",
        "\n",
        "try:\n",
        "    notebook_login(token=os.enviroment[\"HF_TOKEN\"])\n",
        "except:\n",
        "    print(\"Token não encontrado\")"
      ],
      "metadata": {
        "id": "W_1qdJRNtoFW"
      },
      "execution_count": null,
      "outputs": []
    },
    {
      "cell_type": "markdown",
      "source": [
        "# Baixar Modelo (Opcional)\n",
        "\n",
        "Caso seja necessário utilizar um modelo específico com o Ollama, descomente o comando correspondente na célula de código para realizar o download do modelo desejado.\n",
        "\n",
        "*Observação:* Esta etapa é opcional e deve ser utilizada se o modelo for requerido para a execução da aplicação.\n"
      ],
      "metadata": {
        "id": "ToXukwI63G7Y"
      }
    },
    {
      "cell_type": "code",
      "source": [
        "%%capture\n",
        "!ollama pull gemma3:27b-it-q8_0"
      ],
      "metadata": {
        "id": "7sZsLU6x8drC"
      },
      "execution_count": null,
      "outputs": []
    },
    {
      "cell_type": "markdown",
      "source": [
        "# Configuração do ngrok\n",
        "\n",
        "Utilize o comando abaixo para adicionar o token de autenticação ao ngrok, permitindo a criação do túnel para o serviço web:\n",
        "\n",
        "\n"
      ],
      "metadata": {
        "id": "_Ebsbw8y3R23"
      }
    },
    {
      "cell_type": "code",
      "source": [
        "!ngrok config add-authtoken $NGROK_TOKEN"
      ],
      "metadata": {
        "id": "iuTB_e6FXWRn"
      },
      "execution_count": null,
      "outputs": []
    },
    {
      "cell_type": "markdown",
      "source": [
        "\n",
        "---\n",
        "\n",
        "### 7. Início dos Serviços com tmux\n",
        "\n",
        "\n",
        "**Início dos Serviços com tmux**\n",
        "\n",
        "Nesta etapa, iniciamos os seguintes serviços em sessões separadas utilizando o tmux:\n",
        "\n",
        "- **Ollama:** Inicia o serviço backend de IA com o comando `ollama serve`.\n",
        "- **OpenWebUI:** Lança a interface web do serviço na porta 8081 com o comando `open-webui serve --port 8081`.\n",
        "- **ngrok:** Cria um túnel para expor a interface web (na porta 8081) à internet com o comando `ngrok http http://localhost:8081`.\n",
        "\n",
        "Esses comandos garantem que os serviços continuem rodando em background, mesmo que a sessão principal do Colab seja interrompida.\n"
      ],
      "metadata": {
        "id": "Kxr2dM953gWM"
      }
    },
    {
      "cell_type": "code",
      "source": [
        "# Inicie o serviço Ollama em background\n",
        "!tmux new-session -d -s ollama_session ollama serve"
      ],
      "metadata": {
        "id": "gB0zavKB9A94"
      },
      "execution_count": null,
      "outputs": []
    },
    {
      "cell_type": "code",
      "source": [
        "# Inicie o serviço open-webui em background\n",
        "!tmux new-session -d -s openweb_session open-webui serve --port 8081"
      ],
      "metadata": {
        "id": "zMfCrTobPh3l"
      },
      "execution_count": null,
      "outputs": []
    },
    {
      "cell_type": "code",
      "source": [
        "# Inicie o serviço ngrok em background\n",
        "!tmux new-session -d -s ngrok_session ngrok http http://localhost:8081"
      ],
      "metadata": {
        "id": "MfcptyDDfHrN"
      },
      "execution_count": null,
      "outputs": []
    },
    {
      "cell_type": "markdown",
      "source": [
        "# Verificação das Sessões Ativas do tmux\n",
        "\n",
        "Por fim, execute o comando abaixo para listar todas as sessões ativas do tmux. Dessa forma, você pode confirmar que as sessões **ollama_session**, **openweb_session** e **ngrok_session** estão rodando corretamente:\n",
        "\n"
      ],
      "metadata": {
        "id": "DmWJIZno3kxy"
      }
    },
    {
      "cell_type": "code",
      "source": [
        "!tmux ls"
      ],
      "metadata": {
        "id": "RqTiOGmum0_Q"
      },
      "execution_count": null,
      "outputs": []
    },
    {
      "cell_type": "markdown",
      "source": [
        "# Finalizando\n",
        "\n",
        "\n",
        "Ao final verifique na sua conta do ngrok qual o endpoint que foi exposto pelo google colab."
      ],
      "metadata": {
        "id": "Mp1rfgAx7lYc"
      }
    },
    {
      "cell_type": "markdown",
      "source": [
        "# Conclusão e Considerações Finais\n",
        "\n",
        "Este script oferece uma solução prática para rodar o openweb-ui e testar aplicações de IA diretamente no Google Colab, integrando com ferramentas como ngrok e ollama. Ele automatiza a configuração do ambiente, garantindo que todas as dependências sejam instaladas e que os serviços necessários sejam iniciados corretamente.\n",
        "\n",
        "## Vantagens\n",
        "\n",
        "- **Simplicidade:** Automatiza várias etapas, eliminando a necessidade de configurações manuais complexas.\n",
        "- **Execução Estável:** Utiliza o tmux para rodar serviços em background, permitindo que a sessão principal do Colab seja encerrada sem interromper o funcionamento.\n",
        "- **Integração Eficiente:** Facilita o acesso remoto à interface web por meio do ngrok e integra recursos de IA via Hugging Face e Ollama.\n",
        "\n",
        "## Desvantagens\n",
        "\n",
        "- **Configuração Inicial:** Requer a definição prévia de variáveis de ambiente, como os tokens de acesso (HF_TOKEN e NGROK_TOKEN), o que pode ser um obstáculo para iniciantes.\n",
        "- **Limitações do Colab:** O ambiente do Google Colab possui restrições que podem afetar a continuidade e o desempenho dos serviços.\n"
      ],
      "metadata": {
        "id": "vCfB0Mca40k1"
      }
    }
  ]
}